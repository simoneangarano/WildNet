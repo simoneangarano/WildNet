{
 "cells": [
  {
   "attachments": {},
   "cell_type": "markdown",
   "id": "c4805c40",
   "metadata": {},
   "source": [
    "### MobileNetV3"
   ]
  },
  {
   "cell_type": "code",
   "execution_count": null,
   "id": "d425dacf",
   "metadata": {
    "ExecuteTime": {
     "end_time": "2023-06-23T16:23:29.791945Z",
     "start_time": "2023-06-23T16:23:29.785691Z"
    }
   },
   "outputs": [],
   "source": [
    "%load_ext autoreload\n",
    "%autoreload 2"
   ]
  },
  {
   "cell_type": "code",
   "execution_count": null,
   "id": "fad867bd",
   "metadata": {
    "ExecuteTime": {
     "end_time": "2023-06-23T16:58:42.673272Z",
     "start_time": "2023-06-23T16:58:42.654058Z"
    }
   },
   "outputs": [],
   "source": [
    "import copy\n",
    "import torch\n",
    "from network.mobilenet_v3 import mobilenet_v3_large\n",
    "from network.Resnet import resnet50\n",
    "from network.utils import IntermediateLayerGetter\n"
   ]
  },
  {
   "cell_type": "code",
   "execution_count": null,
   "id": "506cc669",
   "metadata": {
    "ExecuteTime": {
     "end_time": "2023-06-23T16:23:32.560139Z",
     "start_time": "2023-06-23T16:23:32.471171Z"
    }
   },
   "outputs": [],
   "source": [
    "model_b = mobilenet_v3_large(fs_layer=[1,1,1,0,0])"
   ]
  },
  {
   "cell_type": "code",
   "execution_count": null,
   "id": "00b9ab11",
   "metadata": {
    "ExecuteTime": {
     "end_time": "2023-06-23T16:23:34.363425Z",
     "start_time": "2023-06-23T16:23:34.327689Z"
    }
   },
   "outputs": [],
   "source": [
    "o = model_b(torch.zeros(1,3,224,224))"
   ]
  },
  {
   "cell_type": "code",
   "execution_count": null,
   "id": "f67e93fd",
   "metadata": {
    "ExecuteTime": {
     "end_time": "2023-06-23T16:23:34.911097Z",
     "start_time": "2023-06-23T16:23:34.894759Z"
    }
   },
   "outputs": [],
   "source": [
    "o.shape"
   ]
  },
  {
   "cell_type": "code",
   "execution_count": null,
   "id": "3d5c12d9",
   "metadata": {
    "ExecuteTime": {
     "end_time": "2023-06-23T16:36:51.307096Z",
     "start_time": "2023-06-23T16:36:51.285552Z"
    },
    "collapsed": true
   },
   "outputs": [],
   "source": [
    "model_b.features"
   ]
  },
  {
   "cell_type": "code",
   "execution_count": null,
   "id": "4e6567cd",
   "metadata": {
    "ExecuteTime": {
     "end_time": "2023-06-23T13:26:35.317417Z",
     "start_time": "2023-06-23T13:26:35.175212Z"
    },
    "collapsed": true
   },
   "outputs": [],
   "source": [
    "# state_dict = model_b.state_dict()\n",
    "state_dict = torch.load('weights/mobilenet_v3_large-5c1a4163.pth')\n",
    "#state_dict_v2 = copy.deepcopy(state_dict)\n",
    "\n",
    "\n",
    "for i in reversed(range(1,17)):\n",
    "    state_dict_filt = {k: v for k, v in state_dict.items() if f'features.{i}.' in k}\n",
    "    print(state_dict_filt.keys())\n",
    "    for key in state_dict_filt:\n",
    "        _, post = key.split(f'features.{i}.')\n",
    "        state_dict[f'features.{i+1}.{post}'] = state_dict.pop(key)\n",
    "        print(f'{key} \\t -> features.{i+1}.{post}')"
   ]
  },
  {
   "cell_type": "code",
   "execution_count": null,
   "id": "4833781d",
   "metadata": {
    "ExecuteTime": {
     "end_time": "2023-06-23T16:58:45.054802Z",
     "start_time": "2023-06-23T16:58:45.035213Z"
    }
   },
   "outputs": [],
   "source": [
    "backbone = model_b.features\n",
    "# Gather the indices of blocks which are strided. These are the locations of C1, ..., Cn-1 blocks.\n",
    "# The first and last blocks are always included because they are the C0 (conv1) and Cn.\n",
    "stage_indices = [0] + [i for i, b in enumerate(backbone) if getattr(b, \"_is_cn\", False)] + [len(backbone) - 1]\n",
    "low_pos = stage_indices[-4]  # use C2 here which has output_stride = 8\n",
    "high_pos = stage_indices[-1]  # use C5 which has output_stride = 16\n",
    "low_channels = backbone[low_pos].out_channels\n",
    "high_channels = backbone[high_pos].out_channels\n",
    "backbone = IntermediateLayerGetter(backbone, return_layers={str(low_pos): \"low\", str(high_pos): \"high\"})"
   ]
  },
  {
   "cell_type": "code",
   "execution_count": null,
   "id": "1b28ad74",
   "metadata": {
    "ExecuteTime": {
     "end_time": "2023-06-23T17:01:21.122629Z",
     "start_time": "2023-06-23T17:01:21.101682Z"
    }
   },
   "outputs": [],
   "source": [
    "backbone = model_b.features\n",
    "\n",
    "backbone[high_pos].out_channels"
   ]
  },
  {
   "attachments": {},
   "cell_type": "markdown",
   "id": "086abf90",
   "metadata": {},
   "source": [
    "### LR-ASPP"
   ]
  },
  {
   "cell_type": "code",
   "execution_count": null,
   "id": "65d93627",
   "metadata": {
    "ExecuteTime": {
     "end_time": "2023-06-23T17:05:43.373438Z",
     "start_time": "2023-06-23T17:05:43.318638Z"
    }
   },
   "outputs": [],
   "source": [
    "import torch\n",
    "from network.lraspp import lraspp_mobilenet_v3_large\n",
    "\n",
    "from train import args\n",
    "import loss"
   ]
  },
  {
   "cell_type": "code",
   "execution_count": null,
   "id": "d7ea62d1",
   "metadata": {
    "ExecuteTime": {
     "end_time": "2023-06-23T17:05:44.119098Z",
     "start_time": "2023-06-23T17:05:44.109377Z"
    }
   },
   "outputs": [],
   "source": [
    "criterion, criterion_val = loss.get_loss(args)\n",
    "criterion_aux = loss.get_loss_aux(args)"
   ]
  },
  {
   "cell_type": "code",
   "execution_count": null,
   "id": "22c8aa4d",
   "metadata": {
    "ExecuteTime": {
     "end_time": "2023-06-23T17:06:50.930210Z",
     "start_time": "2023-06-23T17:06:50.756147Z"
    }
   },
   "outputs": [],
   "source": [
    "model = lraspp_mobilenet_v3_large(args=args,\n",
    "                                  criterion=criterion, \n",
    "                                  criterion_aux=criterion_aux, \n",
    "                                  cont_proj_head=args.cont_proj_head, \n",
    "                                  wild_cont_dict_size=args.wild_cont_dict_size)"
   ]
  },
  {
   "cell_type": "code",
   "execution_count": null,
   "id": "48df1c51",
   "metadata": {
    "ExecuteTime": {
     "end_time": "2023-06-23T17:18:00.972339Z",
     "start_time": "2023-06-23T17:18:00.861802Z"
    },
    "scrolled": true
   },
   "outputs": [],
   "source": [
    "with torch.no_grad():\n",
    "    model.eval()\n",
    "    o, f = model(torch.zeros(1,3,224,224))"
   ]
  },
  {
   "cell_type": "code",
   "execution_count": null,
   "id": "8e211efa",
   "metadata": {
    "ExecuteTime": {
     "end_time": "2023-06-23T17:18:03.052173Z",
     "start_time": "2023-06-23T17:18:03.041363Z"
    }
   },
   "outputs": [],
   "source": [
    "f['low'].shape, f['high'].shape"
   ]
  },
  {
   "cell_type": "markdown",
   "id": "a98bc1bf",
   "metadata": {},
   "source": [
    "## Files"
   ]
  },
  {
   "cell_type": "code",
   "execution_count": null,
   "id": "015fc99a",
   "metadata": {},
   "outputs": [],
   "source": [
    "import os\n",
    "from pathlib import Path\n",
    "import re\n",
    " \n",
    "subd = Path(\"/media/data/Datasets/AgriSeg_Dataset/vineyard_real/\")\n",
    "\n",
    "for subdir in subd.iterdir():\n",
    "    if subdir.is_file() or subdir.name.startswith('.'): continue\n",
    "    print(subdir)\n",
    "    # for ss in ['images', 'masks']:\n",
    "    #     for f in sorted(list(subdir.joinpath(ss).iterdir())):\n",
    "            # i = re.split('_|\\.', f.name)[-2]\n",
    "            # # print(f.name, i)\n",
    "            # os.mkdir(f.parent.joinpath(f'Image{i}'))\n",
    "            # os.rename(f, f.parent.joinpath(f'Image{i}').joinpath(f.name))\n",
    "    image_file_names = [list(f.glob('**/*')) for f in subdir.joinpath('images').iterdir() \n",
    "                        if not f.name.startswith('.')]\n",
    "    mask_file_names = [list(f.glob('**/*')) for f in subdir.joinpath('masks').iterdir()\n",
    "                        if not f.name.startswith('.')]"
   ]
  },
  {
   "cell_type": "code",
   "execution_count": null,
   "id": "c0b8ebe0",
   "metadata": {},
   "outputs": [],
   "source": [
    "image_file_names[10], mask_file_names[10]"
   ]
  },
  {
   "cell_type": "code",
   "execution_count": null,
   "id": "40b47529",
   "metadata": {},
   "outputs": [],
   "source": [
    "from PIL import Image\n",
    "\n",
    "Image.open(image_file_names[1][0])"
   ]
  },
  {
   "cell_type": "code",
   "execution_count": null,
   "id": "c1e4487f",
   "metadata": {},
   "outputs": [],
   "source": [
    "Image.open(mask_file_names[1][0])"
   ]
  },
  {
   "cell_type": "code",
   "execution_count": null,
   "id": "c77c7b7d",
   "metadata": {},
   "outputs": [],
   "source": []
  }
 ],
 "metadata": {
  "kernelspec": {
   "display_name": "wildnet",
   "language": "python",
   "name": "python3"
  },
  "language_info": {
   "codemirror_mode": {
    "name": "ipython",
    "version": 3
   },
   "file_extension": ".py",
   "mimetype": "text/x-python",
   "name": "python",
   "nbconvert_exporter": "python",
   "pygments_lexer": "ipython3",
   "version": "3.7.12"
  },
  "toc": {
   "base_numbering": 1,
   "nav_menu": {},
   "number_sections": true,
   "sideBar": true,
   "skip_h1_title": false,
   "title_cell": "Table of Contents",
   "title_sidebar": "Contents",
   "toc_cell": false,
   "toc_position": {},
   "toc_section_display": true,
   "toc_window_display": false
  },
  "varInspector": {
   "cols": {
    "lenName": 16,
    "lenType": 16,
    "lenVar": 40
   },
   "kernels_config": {
    "python": {
     "delete_cmd_postfix": "",
     "delete_cmd_prefix": "del ",
     "library": "var_list.py",
     "varRefreshCmd": "print(var_dic_list())"
    },
    "r": {
     "delete_cmd_postfix": ") ",
     "delete_cmd_prefix": "rm(",
     "library": "var_list.r",
     "varRefreshCmd": "cat(var_dic_list()) "
    }
   },
   "types_to_exclude": [
    "module",
    "function",
    "builtin_function_or_method",
    "instance",
    "_Feature"
   ],
   "window_display": false
  }
 },
 "nbformat": 4,
 "nbformat_minor": 5
}
